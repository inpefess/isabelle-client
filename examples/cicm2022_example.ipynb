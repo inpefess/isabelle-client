{
 "cells": [
  {
   "cell_type": "markdown",
   "id": "114570df-02b2-4996-9901-5515a9497f2b",
   "metadata": {},
   "source": [
    "<pre>\n",
    "Copyright 2022 Boris Shminke\n",
    "\n",
    "Licensed under the Apache License, Version 2.0 (the \"License\");\n",
    "you may not use this file except in compliance with the License.\n",
    "You may obtain a copy of the License at\n",
    "\n",
    "    https://www.apache.org/licenses/LICENSE-2.0\n",
    "\n",
    "Unless required by applicable law or agreed to in writing, software\n",
    "distributed under the License is distributed on an \"AS IS\" BASIS,\n",
    "WITHOUT WARRANTIES OR CONDITIONS OF ANY KIND, either express or implied.\n",
    "See the License for the specific language governing permissions and\n",
    "limitations under the License.\n",
    "</pre>"
   ]
  },
  {
   "cell_type": "code",
   "execution_count": 1,
   "id": "b3aa475d-447c-46f6-8eca-cd62591bc0d1",
   "metadata": {
    "collapsed": false,
    "jupyter": {
     "outputs_hidden": false
    }
   },
   "outputs": [],
   "source": [
    "# since both Jupyter and `isabelle-client` use `asyncio` we need to enable\n",
    "# nested event loops. We don't need that when using `isabelle-client` from\n",
    "# Python scripts outside Jupyter\n",
    "import nest_asyncio\n",
    "\n",
    "nest_asyncio.apply()"
   ]
  },
  {
   "cell_type": "code",
   "execution_count": 2,
   "id": "7a4b9441-b898-4880-8d44-2418a385f75a",
   "metadata": {
    "collapsed": false,
    "jupyter": {
     "outputs_hidden": false
    }
   },
   "outputs": [],
   "source": [
    "# first, we start Isabelle server\n",
    "from isabelle_client import start_isabelle_server\n",
    "\n",
    "server_info, isabelle_process = start_isabelle_server()"
   ]
  },
  {
   "cell_type": "code",
   "execution_count": 3,
   "id": "199d5b0d-6984-4342-9075-a3977c817a5d",
   "metadata": {
    "collapsed": false,
    "jupyter": {
     "outputs_hidden": false
    }
   },
   "outputs": [
    {
     "name": "stdout",
     "output_type": "stream",
     "text": [
      "server \"isabelle\" = 127.0.0.1:38145 (password \"2b731e67-df0a-4493-a9c4-09d82ad14fc6\")\n",
      "\n"
     ]
    }
   ],
   "source": [
    "# server info is the same as printed by `isabelle server` command\n",
    "print(server_info)"
   ]
  },
  {
   "cell_type": "code",
   "execution_count": 4,
   "id": "efb87f73-7634-4574-8988-1e139f5733c0",
   "metadata": {
    "collapsed": false,
    "jupyter": {
     "outputs_hidden": false
    }
   },
   "outputs": [
    {
     "data": {
      "text/plain": [
       "asyncio.subprocess.Process"
      ]
     },
     "execution_count": 4,
     "metadata": {},
     "output_type": "execute_result"
    }
   ],
   "source": [
    "# a process object can be used for additional control\n",
    "type(isabelle_process)"
   ]
  },
  {
   "cell_type": "code",
   "execution_count": 5,
   "id": "2dd46604-666d-4d8a-a1ab-37a9452bcb85",
   "metadata": {
    "collapsed": false,
    "jupyter": {
     "outputs_hidden": false
    }
   },
   "outputs": [
    {
     "data": {
      "text/plain": [
       "<Process 1235>"
      ]
     },
     "execution_count": 5,
     "metadata": {},
     "output_type": "execute_result"
    }
   ],
   "source": [
    "isabelle_process"
   ]
  },
  {
   "cell_type": "code",
   "execution_count": 6,
   "id": "e2dc78f4-1ad9-4101-90ae-03b9047f374f",
   "metadata": {
    "collapsed": false,
    "jupyter": {
     "outputs_hidden": false
    }
   },
   "outputs": [
    {
     "data": {
      "text/plain": [
       "1235"
      ]
     },
     "execution_count": 6,
     "metadata": {},
     "output_type": "execute_result"
    }
   ],
   "source": [
    "isabelle_process.pid"
   ]
  },
  {
   "cell_type": "code",
   "execution_count": 7,
   "id": "9c7e81cf-2c83-4059-bf0d-397ea89ef6d9",
   "metadata": {
    "collapsed": false,
    "jupyter": {
     "outputs_hidden": false
    }
   },
   "outputs": [
    {
     "data": {
      "text/plain": [
       "<isabelle_client.isabelle__client.IsabelleClient at 0x7f90344e4a00>"
      ]
     },
     "execution_count": 7,
     "metadata": {},
     "output_type": "execute_result"
    }
   ],
   "source": [
    "# now we can create a client instance\n",
    "from isabelle_client import get_isabelle_client\n",
    "\n",
    "isabelle = get_isabelle_client(server_info)\n",
    "isabelle"
   ]
  },
  {
   "cell_type": "code",
   "execution_count": 8,
   "id": "06e9cfd7-da5c-4f44-b520-44c3068128fa",
   "metadata": {
    "collapsed": false,
    "jupyter": {
     "outputs_hidden": false
    }
   },
   "outputs": [
    {
     "data": {
      "text/plain": [
       "[IsabelleResponse(response_type='OK', response_body='{\"isabelle_id\":\"c2a2be496f35\",\"isabelle_name\":\"Isabelle2021-1\"}', response_length=None),\n",
       " IsabelleResponse(response_type='OK', response_body='[\"cancel\",\"echo\",\"help\",\"purge_theories\",\"session_build\",\"session_start\",\"session_stop\",\"shutdown\",\"use_theories\"]', response_length=118)]"
      ]
     },
     "execution_count": 8,
     "metadata": {},
     "output_type": "execute_result"
    }
   ],
   "source": [
    "# the server's commands are implemented as client object methods\n",
    "responses = isabelle.help()\n",
    "responses"
   ]
  },
  {
   "cell_type": "code",
   "execution_count": 9,
   "id": "4e995c27-4e1f-433e-bf1d-c765acc4de7e",
   "metadata": {
    "collapsed": false,
    "jupyter": {
     "outputs_hidden": false
    }
   },
   "outputs": [
    {
     "data": {
      "text/plain": [
       "IsabelleResponse(response_type='OK', response_body='[\"cancel\",\"echo\",\"help\",\"purge_theories\",\"session_build\",\"session_start\",\"session_stop\",\"shutdown\",\"use_theories\"]', response_length=118)"
      ]
     },
     "execution_count": 9,
     "metadata": {},
     "output_type": "execute_result"
    }
   ],
   "source": [
    "# usually, the last server's response contains something interesting\n",
    "responses[-1]"
   ]
  },
  {
   "cell_type": "code",
   "execution_count": 10,
   "id": "377bd032-783a-4bba-b18d-417bb831601e",
   "metadata": {
    "collapsed": false,
    "jupyter": {
     "outputs_hidden": false
    }
   },
   "outputs": [
    {
     "data": {
      "text/plain": [
       "'[\"cancel\",\"echo\",\"help\",\"purge_theories\",\"session_build\",\"session_start\",\"session_stop\",\"shutdown\",\"use_theories\"]'"
      ]
     },
     "execution_count": 10,
     "metadata": {},
     "output_type": "execute_result"
    }
   ],
   "source": [
    "responses[-1].response_body"
   ]
  },
  {
   "cell_type": "code",
   "execution_count": 11,
   "id": "bac42aac-3a51-44a3-ba3c-5ecde5dd64a8",
   "metadata": {
    "collapsed": false,
    "jupyter": {
     "outputs_hidden": false
    }
   },
   "outputs": [
    {
     "data": {
      "text/plain": [
       "['cancel',\n",
       " 'echo',\n",
       " 'help',\n",
       " 'purge_theories',\n",
       " 'session_build',\n",
       " 'session_start',\n",
       " 'session_stop',\n",
       " 'shutdown',\n",
       " 'use_theories']"
      ]
     },
     "execution_count": 11,
     "metadata": {},
     "output_type": "execute_result"
    }
   ],
   "source": [
    "# the response body is usually JSON formatted\n",
    "import json\n",
    "\n",
    "data = json.loads(responses[-1].response_body)\n",
    "data"
   ]
  },
  {
   "cell_type": "code",
   "execution_count": 12,
   "id": "09f1c278-acd3-43e4-b890-fa8cc83cfae2",
   "metadata": {
    "collapsed": false,
    "jupyter": {
     "outputs_hidden": false
    }
   },
   "outputs": [
    {
     "name": "stdout",
     "output_type": "stream",
     "text": [
      "CPU times: user 10.6 ms, sys: 0 ns, total: 10.6 ms\n",
      "Wall time: 17.7 s\n"
     ]
    },
    {
     "data": {
      "text/plain": [
       "'3a351829-9b53-4e33-8359-1ae92907af8c'"
      ]
     },
     "execution_count": 12,
     "metadata": {},
     "output_type": "execute_result"
    }
   ],
   "source": [
    "%%time\n",
    "# let's do something more meaningful\n",
    "\n",
    "session_id = isabelle.session_start()\n",
    "session_id"
   ]
  },
  {
   "cell_type": "code",
   "execution_count": 13,
   "id": "91a4eadb-f791-4c71-b41f-b38f66758c6c",
   "metadata": {
    "collapsed": false,
    "jupyter": {
     "outputs_hidden": false
    }
   },
   "outputs": [],
   "source": [
    "# let's generate a dummy problem file in Isabelle format\n",
    "with open(\"Problem.thy\", \"w\") as problem_file:\n",
    "    problem_text = \"\"\"\n",
    "theory Problem imports Main\n",
    "begin\n",
    "lemma \"\\<forall> x. \\<exists> y. x = y\"\n",
    "sledgehammer\n",
    "oops\n",
    "end\n",
    "    \"\"\"\n",
    "    problem_file.write(problem_text)"
   ]
  },
  {
   "cell_type": "code",
   "execution_count": 14,
   "id": "575cd14e-79bb-4eb9-98d0-f0a6be5a1583",
   "metadata": {
    "collapsed": false,
    "jupyter": {
     "outputs_hidden": false
    }
   },
   "outputs": [
    {
     "name": "stdout",
     "output_type": "stream",
     "text": [
      "CPU times: user 9.65 ms, sys: 211 µs, total: 9.86 ms\n",
      "Wall time: 15.6 s\n"
     ]
    },
    {
     "data": {
      "text/plain": [
       "[IsabelleResponse(response_type='OK', response_body='{\"isabelle_id\":\"c2a2be496f35\",\"isabelle_name\":\"Isabelle2021-1\"}', response_length=None),\n",
       " IsabelleResponse(response_type='OK', response_body='{\"task\":\"2142ac80-245f-4cfe-86c8-b4cbc713312f\"}', response_length=None),\n",
       " IsabelleResponse(response_type='NOTE', response_body='{\"percentage\":18,\"task\":\"2142ac80-245f-4cfe-86c8-b4cbc713312f\",\"message\":\"theory Draft.Problem 18%\",\"kind\":\"writeln\",\"session\":\"\",\"theory\":\"Draft.Problem\"}', response_length=161),\n",
       " IsabelleResponse(response_type='NOTE', response_body='{\"percentage\":99,\"task\":\"2142ac80-245f-4cfe-86c8-b4cbc713312f\",\"message\":\"theory Draft.Problem 99%\",\"kind\":\"writeln\",\"session\":\"\",\"theory\":\"Draft.Problem\"}', response_length=161),\n",
       " IsabelleResponse(response_type='NOTE', response_body='{\"percentage\":100,\"task\":\"2142ac80-245f-4cfe-86c8-b4cbc713312f\",\"message\":\"theory Draft.Problem 100%\",\"kind\":\"writeln\",\"session\":\"\",\"theory\":\"Draft.Problem\"}', response_length=163),\n",
       " IsabelleResponse(response_type='FINISHED', response_body='{\"ok\":true,\"errors\":[],\"nodes\":[{\"messages\":[{\"kind\":\"writeln\",\"message\":\"Sledgehammering...\",\"pos\":{\"line\":5,\"offset\":60,\"end_offset\":72,\"file\":\"Problem.thy\"}},{\"kind\":\"writeln\",\"message\":\"Proof found...\",\"pos\":{\"line\":5,\"offset\":60,\"end_offset\":72,\"file\":\"Problem.thy\"}},{\"kind\":\"writeln\",\"message\":\"\\\\\"cvc4\\\\\": Try this: by simp (1 ms)\",\"pos\":{\"line\":5,\"offset\":60,\"end_offset\":72,\"file\":\"Problem.thy\"}},{\"kind\":\"writeln\",\"message\":\"\\\\\"verit\\\\\": Try this: by presburger (1 ms)\",\"pos\":{\"line\":5,\"offset\":60,\"end_offset\":72,\"file\":\"Problem.thy\"}},{\"kind\":\"writeln\",\"message\":\"\\\\\"z3\\\\\": Try this: by simp (1 ms)\",\"pos\":{\"line\":5,\"offset\":60,\"end_offset\":72,\"file\":\"Problem.thy\"}},{\"kind\":\"writeln\",\"message\":\"\\\\\"vampire\\\\\": Try this: by simp (3 ms)\",\"pos\":{\"line\":5,\"offset\":60,\"end_offset\":72,\"file\":\"Problem.thy\"}},{\"kind\":\"writeln\",\"message\":\"\\\\\"e\\\\\": Try this: by force (5 ms)\",\"pos\":{\"line\":5,\"offset\":60,\"end_offset\":72,\"file\":\"Problem.thy\"}},{\"kind\":\"writeln\",\"message\":\"\\\\\"spass\\\\\": Try this: by blast (2 ms)\",\"pos\":{\"line\":5,\"offset\":60,\"end_offset\":72,\"file\":\"Problem.thy\"}}],\"exports\":[],\"status\":{\"percentage\":100,\"unprocessed\":0,\"running\":0,\"finished\":11,\"failed\":0,\"total\":11,\"consolidated\":true,\"canceled\":false,\"ok\":true,\"warned\":0},\"theory_name\":\"Draft.Problem\",\"node_name\":\"Problem.thy\"}],\"task\":\"2142ac80-245f-4cfe-86c8-b4cbc713312f\"}', response_length=1351)]"
      ]
     },
     "execution_count": 14,
     "metadata": {},
     "output_type": "execute_result"
    }
   ],
   "source": [
    "%%time\n",
    "# now let's ask the server to solve the problem\n",
    "\n",
    "responses = isabelle.use_theories(\n",
    "    theories=[\"Problem\"],\n",
    "    master_dir=\".\",\n",
    "    session_id=session_id\n",
    ")\n",
    "responses"
   ]
  },
  {
   "cell_type": "code",
   "execution_count": 15,
   "id": "613815af-b241-4cd2-8a10-0bb6d408efc5",
   "metadata": {
    "collapsed": false,
    "jupyter": {
     "outputs_hidden": false
    }
   },
   "outputs": [
    {
     "data": {
      "text/plain": [
       "{'ok': True,\n",
       " 'errors': [],\n",
       " 'nodes': [{'messages': [{'kind': 'writeln',\n",
       "     'message': 'Sledgehammering...',\n",
       "     'pos': {'line': 5,\n",
       "      'offset': 60,\n",
       "      'end_offset': 72,\n",
       "      'file': 'Problem.thy'}},\n",
       "    {'kind': 'writeln',\n",
       "     'message': 'Proof found...',\n",
       "     'pos': {'line': 5,\n",
       "      'offset': 60,\n",
       "      'end_offset': 72,\n",
       "      'file': 'Problem.thy'}},\n",
       "    {'kind': 'writeln',\n",
       "     'message': '\"cvc4\": Try this: by simp (1 ms)',\n",
       "     'pos': {'line': 5,\n",
       "      'offset': 60,\n",
       "      'end_offset': 72,\n",
       "      'file': 'Problem.thy'}},\n",
       "    {'kind': 'writeln',\n",
       "     'message': '\"verit\": Try this: by presburger (1 ms)',\n",
       "     'pos': {'line': 5,\n",
       "      'offset': 60,\n",
       "      'end_offset': 72,\n",
       "      'file': 'Problem.thy'}},\n",
       "    {'kind': 'writeln',\n",
       "     'message': '\"z3\": Try this: by simp (1 ms)',\n",
       "     'pos': {'line': 5,\n",
       "      'offset': 60,\n",
       "      'end_offset': 72,\n",
       "      'file': 'Problem.thy'}},\n",
       "    {'kind': 'writeln',\n",
       "     'message': '\"vampire\": Try this: by simp (3 ms)',\n",
       "     'pos': {'line': 5,\n",
       "      'offset': 60,\n",
       "      'end_offset': 72,\n",
       "      'file': 'Problem.thy'}},\n",
       "    {'kind': 'writeln',\n",
       "     'message': '\"e\": Try this: by force (5 ms)',\n",
       "     'pos': {'line': 5,\n",
       "      'offset': 60,\n",
       "      'end_offset': 72,\n",
       "      'file': 'Problem.thy'}},\n",
       "    {'kind': 'writeln',\n",
       "     'message': '\"spass\": Try this: by blast (2 ms)',\n",
       "     'pos': {'line': 5,\n",
       "      'offset': 60,\n",
       "      'end_offset': 72,\n",
       "      'file': 'Problem.thy'}}],\n",
       "   'exports': [],\n",
       "   'status': {'percentage': 100,\n",
       "    'unprocessed': 0,\n",
       "    'running': 0,\n",
       "    'finished': 11,\n",
       "    'failed': 0,\n",
       "    'total': 11,\n",
       "    'consolidated': True,\n",
       "    'canceled': False,\n",
       "    'ok': True,\n",
       "    'warned': 0},\n",
       "   'theory_name': 'Draft.Problem',\n",
       "   'node_name': 'Problem.thy'}],\n",
       " 'task': '2142ac80-245f-4cfe-86c8-b4cbc713312f'}"
      ]
     },
     "execution_count": 15,
     "metadata": {},
     "output_type": "execute_result"
    }
   ],
   "source": [
    "# notice that important messages live inside \"nodes\" object\n",
    "data = json.loads(responses[-1].response_body)\n",
    "data"
   ]
  },
  {
   "cell_type": "code",
   "execution_count": 16,
   "id": "dc8f4d7e-d5ab-4005-821d-c0f41956102c",
   "metadata": {
    "collapsed": false,
    "jupyter": {
     "outputs_hidden": false
    }
   },
   "outputs": [
    {
     "data": {
      "text/plain": [
       "['Sledgehammering...',\n",
       " 'Proof found...',\n",
       " '\"cvc4\": Try this: by simp (1 ms)',\n",
       " '\"verit\": Try this: by presburger (1 ms)',\n",
       " '\"z3\": Try this: by simp (1 ms)',\n",
       " '\"vampire\": Try this: by simp (3 ms)',\n",
       " '\"e\": Try this: by force (5 ms)',\n",
       " '\"spass\": Try this: by blast (2 ms)']"
      ]
     },
     "execution_count": 16,
     "metadata": {},
     "output_type": "execute_result"
    }
   ],
   "source": [
    "# the messages from `sledgehammer` have an easily parsable format\n",
    "messages = [message[\"message\"] for message in data[\"nodes\"][0][\"messages\"]]\n",
    "messages"
   ]
  },
  {
   "cell_type": "code",
   "execution_count": 17,
   "id": "78ee7144-4f43-4cc9-bca7-5f6688ea5e6e",
   "metadata": {
    "collapsed": false,
    "jupyter": {
     "outputs_hidden": false
    }
   },
   "outputs": [
    {
     "data": {
      "text/plain": [
       "[[],\n",
       " [],\n",
       " ['by simp'],\n",
       " ['by presburger'],\n",
       " ['by simp'],\n",
       " ['by simp'],\n",
       " ['by force'],\n",
       " ['by blast']]"
      ]
     },
     "execution_count": 17,
     "metadata": {},
     "output_type": "execute_result"
    }
   ],
   "source": [
    "# we can parse `sledgehammer` suggestions using regular expressions\n",
    "import re\n",
    "\n",
    "proposed_solutions = [\n",
    "    re.findall('\".*\": Try this: (.*) \\(\\d+ ms\\)', message)\n",
    "    for message in messages\n",
    "]\n",
    "proposed_solutions"
   ]
  },
  {
   "cell_type": "code",
   "execution_count": 18,
   "id": "32bde405-c2dd-4372-a008-00f11403571a",
   "metadata": {
    "collapsed": false,
    "jupyter": {
     "outputs_hidden": false
    }
   },
   "outputs": [
    {
     "data": {
      "text/plain": [
       "'by simp'"
      ]
     },
     "execution_count": 18,
     "metadata": {},
     "output_type": "execute_result"
    }
   ],
   "source": [
    "# in principle, we can value some solutions more\n",
    "import random\n",
    "\n",
    "solution = random.choice([\n",
    "    proposed_solution[0]\n",
    "    for proposed_solution in proposed_solutions\n",
    "    if proposed_solution\n",
    "])\n",
    "solution"
   ]
  },
  {
   "cell_type": "code",
   "execution_count": 19,
   "id": "55f5c78a-6ef6-4fa0-a683-bd056baac5e7",
   "metadata": {
    "collapsed": false,
    "jupyter": {
     "outputs_hidden": false
    }
   },
   "outputs": [
    {
     "name": "stdout",
     "output_type": "stream",
     "text": [
      "\n",
      "theory Solution imports Main\n",
      "begin\n",
      "lemma \"\\<forall> x. \\<exists> y. x = y\"\n",
      "by simp\n",
      "end\n",
      "    \n"
     ]
    }
   ],
   "source": [
    "# now let's write down our solution to a file\n",
    "with open(\"Solution.thy\", \"w\") as solution_file:\n",
    "    solution_text = (\n",
    "        problem_text\n",
    "        .replace(\"sledgehammer\\noops\\n\", f\"{solution}\\n\")\n",
    "        .replace(\"theory Problem \", \"theory Solution \")\n",
    "    )\n",
    "    print(solution_text)\n",
    "    solution_file.write(solution_text)"
   ]
  },
  {
   "cell_type": "code",
   "execution_count": 20,
   "id": "72004e3e-b657-45c7-b0fe-ddb044c6d4c6",
   "metadata": {
    "collapsed": false,
    "jupyter": {
     "outputs_hidden": false
    }
   },
   "outputs": [
    {
     "name": "stdout",
     "output_type": "stream",
     "text": [
      "CPU times: user 10.4 ms, sys: 957 µs, total: 11.3 ms\n",
      "Wall time: 14.9 s\n"
     ]
    },
    {
     "data": {
      "text/plain": [
       "[IsabelleResponse(response_type='OK', response_body='{\"isabelle_id\":\"c2a2be496f35\",\"isabelle_name\":\"Isabelle2021-1\"}', response_length=None),\n",
       " IsabelleResponse(response_type='OK', response_body='{\"task\":\"cc332841-911f-4293-acc5-6e9ee76ff335\"}', response_length=None),\n",
       " IsabelleResponse(response_type='NOTE', response_body='{\"percentage\":22,\"task\":\"cc332841-911f-4293-acc5-6e9ee76ff335\",\"message\":\"theory Draft.Solution 22%\",\"kind\":\"writeln\",\"session\":\"\",\"theory\":\"Draft.Solution\"}', response_length=163),\n",
       " IsabelleResponse(response_type='NOTE', response_body='{\"percentage\":99,\"task\":\"cc332841-911f-4293-acc5-6e9ee76ff335\",\"message\":\"theory Draft.Solution 99%\",\"kind\":\"writeln\",\"session\":\"\",\"theory\":\"Draft.Solution\"}', response_length=163),\n",
       " IsabelleResponse(response_type='NOTE', response_body='{\"percentage\":100,\"task\":\"cc332841-911f-4293-acc5-6e9ee76ff335\",\"message\":\"theory Draft.Solution 100%\",\"kind\":\"writeln\",\"session\":\"\",\"theory\":\"Draft.Solution\"}', response_length=165),\n",
       " IsabelleResponse(response_type='FINISHED', response_body='{\"ok\":true,\"errors\":[],\"nodes\":[{\"messages\":[],\"exports\":[],\"status\":{\"percentage\":100,\"unprocessed\":0,\"running\":0,\"finished\":9,\"failed\":0,\"total\":9,\"consolidated\":true,\"canceled\":false,\"ok\":true,\"warned\":0},\"theory_name\":\"Draft.Solution\",\"node_name\":\"Solution.thy\"}],\"task\":\"cc332841-911f-4293-acc5-6e9ee76ff335\"}', response_length=324)]"
      ]
     },
     "execution_count": 20,
     "metadata": {},
     "output_type": "execute_result"
    }
   ],
   "source": [
    "%%time\n",
    "# and finally let's ask the server to check the solution\n",
    "\n",
    "responses = isabelle.use_theories(\n",
    "    theories=[\"Solution\"],\n",
    "    master_dir=\".\",\n",
    "    session_id=session_id\n",
    ")\n",
    "responses"
   ]
  },
  {
   "cell_type": "code",
   "execution_count": 21,
   "id": "23adccf1-6d35-47f5-aa77-0bc8d63fb842",
   "metadata": {
    "collapsed": false,
    "jupyter": {
     "outputs_hidden": false
    }
   },
   "outputs": [
    {
     "data": {
      "text/plain": [
       "{'ok': True,\n",
       " 'errors': [],\n",
       " 'nodes': [{'messages': [],\n",
       "   'exports': [],\n",
       "   'status': {'percentage': 100,\n",
       "    'unprocessed': 0,\n",
       "    'running': 0,\n",
       "    'finished': 9,\n",
       "    'failed': 0,\n",
       "    'total': 9,\n",
       "    'consolidated': True,\n",
       "    'canceled': False,\n",
       "    'ok': True,\n",
       "    'warned': 0},\n",
       "   'theory_name': 'Draft.Solution',\n",
       "   'node_name': 'Solution.thy'}],\n",
       " 'task': 'cc332841-911f-4293-acc5-6e9ee76ff335'}"
      ]
     },
     "execution_count": 21,
     "metadata": {},
     "output_type": "execute_result"
    }
   ],
   "source": [
    "# the response body doesn't contain any errors\n",
    "json.loads(responses[-1].response_body)"
   ]
  },
  {
   "cell_type": "code",
   "execution_count": 22,
   "id": "19583890-7eed-43c9-8182-5590c3337748",
   "metadata": {
    "collapsed": false,
    "jupyter": {
     "outputs_hidden": false
    }
   },
   "outputs": [
    {
     "data": {
      "text/plain": [
       "[IsabelleResponse(response_type='OK', response_body='{\"isabelle_id\":\"c2a2be496f35\",\"isabelle_name\":\"Isabelle2021-1\"}', response_length=None),\n",
       " IsabelleResponse(response_type='OK', response_body='{\"task\":\"29c104d2-0035-4c56-9076-a532d00b5479\"}', response_length=None),\n",
       " IsabelleResponse(response_type='FINISHED', response_body='{\"ok\":true,\"return_code\":0,\"task\":\"29c104d2-0035-4c56-9076-a532d00b5479\"}', response_length=None)]"
      ]
     },
     "execution_count": 22,
     "metadata": {},
     "output_type": "execute_result"
    }
   ],
   "source": [
    "# we can gracefully finish the session\n",
    "isabelle.session_stop(session_id)"
   ]
  },
  {
   "cell_type": "code",
   "execution_count": 23,
   "id": "10c563f9-df6f-444a-95d3-bd3b330bac21",
   "metadata": {
    "collapsed": false,
    "jupyter": {
     "outputs_hidden": false
    }
   },
   "outputs": [
    {
     "data": {
      "text/plain": [
       "[IsabelleResponse(response_type='OK', response_body='{\"isabelle_id\":\"c2a2be496f35\",\"isabelle_name\":\"Isabelle2021-1\"}', response_length=None),\n",
       " IsabelleResponse(response_type='OK', response_body='', response_length=None)]"
      ]
     },
     "execution_count": 23,
     "metadata": {},
     "output_type": "execute_result"
    }
   ],
   "source": [
    "# and shut the server down\n",
    "isabelle.shutdown()"
   ]
  }
 ],
 "metadata": {
  "kernelspec": {
   "display_name": "Python 3 (ipykernel)",
   "language": "python",
   "name": "python3"
  },
  "language_info": {
   "codemirror_mode": {
    "name": "ipython",
    "version": 3
   },
   "file_extension": ".py",
   "mimetype": "text/x-python",
   "name": "python",
   "nbconvert_exporter": "python",
   "pygments_lexer": "ipython3",
   "version": "3.8.10"
  },
  "name": "interactive_example.ipynb"
 },
 "nbformat": 4,
 "nbformat_minor": 5
}
