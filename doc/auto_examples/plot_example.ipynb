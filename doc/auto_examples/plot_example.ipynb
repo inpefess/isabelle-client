{
  "cells": [
    {
      "cell_type": "markdown",
      "metadata": {},
      "source": [
        "\n# Basic usage example.\n"
      ]
    },
    {
      "cell_type": "markdown",
      "metadata": {},
      "source": [
        "## In what case to use\n\nThis client might be useful if:\n\n* you have a machine with Isabelle installed\n* you have scripts for automatic generation of theory files in Python\n* you want to communicate with the server not using\n  [Scala](https://scala-lang.org/)_ and/or\n  [Standard ML](https://polyml.org/)_\n\n"
      ]
    },
    {
      "cell_type": "markdown",
      "metadata": {},
      "source": [
        "## In what environment to use\n\nThe client works well in scripts and in Jupyter notebooks. For the\nlatter, one has to enable nested event loops first. Please refer to\n``nest_asyncio`` [documentation](https://pypi.org/project/nest-asyncio/)_.\n\n"
      ]
    },
    {
      "cell_type": "markdown",
      "metadata": {},
      "source": [
        "## Starting Isabelle server\nFirst, we need to start an Isabelle server\n\n"
      ]
    },
    {
      "cell_type": "code",
      "execution_count": null,
      "metadata": {
        "collapsed": false
      },
      "outputs": [],
      "source": [
        "from isabelle_client import start_isabelle_server\n\nserver_info, _ = start_isabelle_server(\n    name=\"test\", port=9999, log_file=\"server.log\"\n)"
      ]
    },
    {
      "cell_type": "markdown",
      "metadata": {},
      "source": [
        "<div class=\"alert alert-danger\"><h4>Warning</h4><p>When using [start_isabelle_server](package-documentation.html#isabelle_client.utils.start_isabelle_server)_\n  utility function in Python REPL or terminal IPython, shutting the server\n  down within the same session is known to cause a runtime error on exit from\n  the session. This behaviour is related to a [well known issue](https://ipython.readthedocs.io/en/stable/interactive/autoawait.html#difference-between-terminal-ipython-and-ipykernel)_.</p></div>\n\n"
      ]
    },
    {
      "cell_type": "markdown",
      "metadata": {},
      "source": [
        "We could also start the server outside this script and use its info (on\nWindows, this is done in Cygwin)::\n\n   isabelle server\n\n"
      ]
    },
    {
      "cell_type": "markdown",
      "metadata": {},
      "source": [
        "## Interacting with Isabelle server\nLet's create a client to our server\n\n"
      ]
    },
    {
      "cell_type": "code",
      "execution_count": null,
      "metadata": {
        "collapsed": false
      },
      "outputs": [],
      "source": [
        "from isabelle_client import get_isabelle_client\n\nisabelle = get_isabelle_client(server_info)"
      ]
    },
    {
      "cell_type": "markdown",
      "metadata": {},
      "source": [
        "We will log all the messages from the server to a file\n\n"
      ]
    },
    {
      "cell_type": "code",
      "execution_count": null,
      "metadata": {
        "collapsed": false
      },
      "outputs": [],
      "source": [
        "import logging\n\nisabelle.logger = logging.getLogger()\nisabelle.logger.setLevel(logging.INFO)\nisabelle.logger.addHandler(logging.FileHandler(\"session.log\"))"
      ]
    },
    {
      "cell_type": "markdown",
      "metadata": {},
      "source": [
        "Isabelle client supports all the commands implemented in Isabelle server\n\n"
      ]
    },
    {
      "cell_type": "code",
      "execution_count": null,
      "metadata": {
        "collapsed": false
      },
      "outputs": [],
      "source": [
        "from pprint import pprint\n\npprint(isabelle.help())"
      ]
    },
    {
      "cell_type": "markdown",
      "metadata": {},
      "source": [
        "Let's suppose we have a ``Example.thy`` theory file in our working directory\nwhich we, e.g. generated with another Python script\n\n.. literalinclude:: ../../examples/Example.thy\n\n\n"
      ]
    },
    {
      "cell_type": "markdown",
      "metadata": {},
      "source": [
        "We can send this theory file to the server and get a response\n\n"
      ]
    },
    {
      "cell_type": "code",
      "execution_count": null,
      "metadata": {
        "collapsed": false
      },
      "outputs": [],
      "source": [
        "pprint(isabelle.use_theories(theories=[\"Example\"], master_dir=\".\"))"
      ]
    },
    {
      "cell_type": "markdown",
      "metadata": {},
      "source": [
        "or we can build a session document using ``./ROOT`` file\n\n.. literalinclude:: ../../examples/ROOT\n\nand ``./document/root.tex`` file\n\n.. literalinclude:: ../../examples/document/root.tex\n   :language: tex\n\n\n"
      ]
    },
    {
      "cell_type": "code",
      "execution_count": null,
      "metadata": {
        "collapsed": false
      },
      "outputs": [],
      "source": [
        "import json\n\npprint(\n    json.loads(\n        isabelle.session_build(dirs=[\".\"], session=\"examples\")[\n            -1\n        ].response_body\n    )\n)"
      ]
    },
    {
      "cell_type": "markdown",
      "metadata": {},
      "source": [
        "One can also issue a free-form command, e.g.\n\n"
      ]
    },
    {
      "cell_type": "code",
      "execution_count": null,
      "metadata": {
        "collapsed": false
      },
      "outputs": [],
      "source": [
        "import asyncio\n\npprint(asyncio.run(isabelle.execute_command(\"echo 42\", asynchronous=False)))"
      ]
    },
    {
      "cell_type": "markdown",
      "metadata": {},
      "source": [
        "Finally, we can shut the server down.\n\n"
      ]
    },
    {
      "cell_type": "code",
      "execution_count": null,
      "metadata": {
        "collapsed": false
      },
      "outputs": [],
      "source": [
        "pprint(isabelle.shutdown())"
      ]
    }
  ],
  "metadata": {
    "kernelspec": {
      "display_name": "Python 3",
      "language": "python",
      "name": "python3"
    },
    "language_info": {
      "codemirror_mode": {
        "name": "ipython",
        "version": 3
      },
      "file_extension": ".py",
      "mimetype": "text/x-python",
      "name": "python",
      "nbconvert_exporter": "python",
      "pygments_lexer": "ipython3",
      "version": "3.11.4"
    }
  },
  "nbformat": 4,
  "nbformat_minor": 0
}